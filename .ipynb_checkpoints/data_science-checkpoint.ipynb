{
 "cells": [
  {
   "cell_type": "markdown",
   "id": "47f04cca-e732-478f-9923-5f4a9fe06bd9",
   "metadata": {},
   "source": [
    "# Intro to Data Science with Pokemon \n",
    "***"
   ]
  },
  {
   "cell_type": "markdown",
   "id": "74ca7a28-4f85-4624-aa90-ad28d9fab5f3",
   "metadata": {},
   "source": [
    "### Arrays"
   ]
  },
  {
   "cell_type": "code",
   "execution_count": 1,
   "id": "60578702-f7ad-4a01-b8fc-7dc862d71b29",
   "metadata": {},
   "outputs": [],
   "source": [
    "food = [\"ham\", \"cheese\", \"bread\", \"mayo\", \"tomatoes\", \"bacon\", \"lettuce\"]"
   ]
  },
  {
   "cell_type": "code",
   "execution_count": 2,
   "id": "26769dc3-7cce-4713-b2ef-bb10f2fbb7e7",
   "metadata": {},
   "outputs": [
    {
     "name": "stdout",
     "output_type": "stream",
     "text": [
      "['ham', 'cheese', 'bread', 'mayo', 'tomatoes', 'bacon', 'lettuce']\n"
     ]
    }
   ],
   "source": [
    "print(food);"
   ]
  },
  {
   "cell_type": "code",
   "execution_count": 3,
   "id": "27919a91-5751-482e-981d-203a9e8f8211",
   "metadata": {},
   "outputs": [
    {
     "name": "stdout",
     "output_type": "stream",
     "text": [
      "ham\n"
     ]
    }
   ],
   "source": [
    "print(food[0]);"
   ]
  },
  {
   "cell_type": "code",
   "execution_count": 4,
   "id": "ad5bc151-d7d8-4112-9096-74b1e5a5432e",
   "metadata": {},
   "outputs": [
    {
     "name": "stdout",
     "output_type": "stream",
     "text": [
      "tomatoes\n"
     ]
    }
   ],
   "source": [
    "print(food[4]);"
   ]
  },
  {
   "cell_type": "code",
   "execution_count": 8,
   "id": "f952e183-6d62-4771-b096-6c4825c43366",
   "metadata": {},
   "outputs": [],
   "source": [
    "sliced_food = food[0:3];"
   ]
  },
  {
   "cell_type": "code",
   "execution_count": 7,
   "id": "b8905e79-8f0c-40f4-8904-3f17a54c7a55",
   "metadata": {},
   "outputs": [
    {
     "name": "stdout",
     "output_type": "stream",
     "text": [
      "['ham', 'cheese']\n"
     ]
    }
   ],
   "source": [
    "print(sliced_food);"
   ]
  },
  {
   "cell_type": "code",
   "execution_count": 10,
   "id": "e6568cee-3490-49a3-88dd-eb7066000a72",
   "metadata": {},
   "outputs": [
    {
     "name": "stdout",
     "output_type": "stream",
     "text": [
      "['ham', 'cheese', 'bread']\n"
     ]
    }
   ],
   "source": [
    "print(sliced_food);"
   ]
  },
  {
   "cell_type": "markdown",
   "id": "14787e56-0ca6-4139-b275-3d810a28a4b2",
   "metadata": {},
   "source": [
    "### Import Libraries\n",
    "***"
   ]
  },
  {
   "cell_type": "code",
   "execution_count": 11,
   "id": "9834d739-dff3-4919-8808-950882315a81",
   "metadata": {},
   "outputs": [],
   "source": [
    "import pandas as pd \n",
    "import numpy as py\n",
    "import seaborn as sb"
   ]
  },
  {
   "cell_type": "code",
   "execution_count": 15,
   "id": "c165df2a-d06e-430d-800d-7c78a4c7904c",
   "metadata": {},
   "outputs": [
    {
     "name": "stdout",
     "output_type": "stream",
     "text": [
      "pandas version 2.1.3\n",
      "numpy version 1.26.2\n",
      "seaborn version 0.13.0\n"
     ]
    }
   ],
   "source": [
    "print(\"pandas version \" + pd.__version__)\n",
    "print(\"numpy version \" + py.__version__)\n",
    "print(\"seaborn version \" + sb.__version__)"
   ]
  },
  {
   "cell_type": "markdown",
   "id": "595de0f7-97a4-487a-9979-7f03e5dc223d",
   "metadata": {},
   "source": [
    "### Loading Data\n",
    "***"
   ]
  },
  {
   "cell_type": "code",
   "execution_count": 16,
   "id": "6d79dafc-ca9f-4dc8-b580-2fa53c828d2d",
   "metadata": {},
   "outputs": [],
   "source": [
    "df = pd.read_csv('pokemon.csv')"
   ]
  },
  {
   "cell_type": "markdown",
   "id": "6e323561-e378-450e-b201-88e127fd8511",
   "metadata": {},
   "source": [
    "### Displayed Full Data Frames \n",
    "***"
   ]
  },
  {
   "cell_type": "code",
   "execution_count": 25,
   "id": "85baf9e1-bfee-46cc-b326-a4044d554aff",
   "metadata": {},
   "outputs": [],
   "source": [
    "pd.set_option('display.max_rows', 20)"
   ]
  },
  {
   "cell_type": "code",
   "execution_count": 27,
   "id": "5c6d28dd-8b9d-4275-a764-f32a77244ae6",
   "metadata": {},
   "outputs": [
    {
     "data": {
      "text/html": [
       "<div>\n",
       "<style scoped>\n",
       "    .dataframe tbody tr th:only-of-type {\n",
       "        vertical-align: middle;\n",
       "    }\n",
       "\n",
       "    .dataframe tbody tr th {\n",
       "        vertical-align: top;\n",
       "    }\n",
       "\n",
       "    .dataframe thead th {\n",
       "        text-align: right;\n",
       "    }\n",
       "</style>\n",
       "<table border=\"1\" class=\"dataframe\">\n",
       "  <thead>\n",
       "    <tr style=\"text-align: right;\">\n",
       "      <th></th>\n",
       "      <th>Per</th>\n",
       "      <th>Nat</th>\n",
       "      <th>Pokemon</th>\n",
       "      <th>HP</th>\n",
       "      <th>Atk</th>\n",
       "      <th>Def</th>\n",
       "      <th>SpA</th>\n",
       "      <th>SpD</th>\n",
       "      <th>Spe</th>\n",
       "      <th>Total</th>\n",
       "      <th>...</th>\n",
       "      <th>Catch</th>\n",
       "      <th>EXP</th>\n",
       "      <th>Evolve</th>\n",
       "      <th>Per.1</th>\n",
       "      <th>Nat.1</th>\n",
       "      <th>Joh</th>\n",
       "      <th>Hoe</th>\n",
       "      <th>Sin</th>\n",
       "      <th>Un</th>\n",
       "      <th>Pokemon.1</th>\n",
       "    </tr>\n",
       "  </thead>\n",
       "  <tbody>\n",
       "    <tr>\n",
       "      <th>0</th>\n",
       "      <td>1.0</td>\n",
       "      <td>1.0</td>\n",
       "      <td>Bulbasaur</td>\n",
       "      <td>45</td>\n",
       "      <td>49</td>\n",
       "      <td>49</td>\n",
       "      <td>65</td>\n",
       "      <td>65</td>\n",
       "      <td>45</td>\n",
       "      <td>318</td>\n",
       "      <td>...</td>\n",
       "      <td>45</td>\n",
       "      <td>1059860</td>\n",
       "      <td>NaN</td>\n",
       "      <td>1.0</td>\n",
       "      <td>1.0</td>\n",
       "      <td>226.0</td>\n",
       "      <td>NaN</td>\n",
       "      <td>NaN</td>\n",
       "      <td>NaN</td>\n",
       "      <td>Bulbasaur</td>\n",
       "    </tr>\n",
       "    <tr>\n",
       "      <th>1</th>\n",
       "      <td>2.0</td>\n",
       "      <td>2.0</td>\n",
       "      <td>Ivysaur</td>\n",
       "      <td>60</td>\n",
       "      <td>62</td>\n",
       "      <td>63</td>\n",
       "      <td>80</td>\n",
       "      <td>80</td>\n",
       "      <td>60</td>\n",
       "      <td>405</td>\n",
       "      <td>...</td>\n",
       "      <td>45</td>\n",
       "      <td>1059860</td>\n",
       "      <td>Lv. 16</td>\n",
       "      <td>2.0</td>\n",
       "      <td>2.0</td>\n",
       "      <td>227.0</td>\n",
       "      <td>NaN</td>\n",
       "      <td>NaN</td>\n",
       "      <td>NaN</td>\n",
       "      <td>Ivysaur</td>\n",
       "    </tr>\n",
       "    <tr>\n",
       "      <th>2</th>\n",
       "      <td>3.0</td>\n",
       "      <td>3.0</td>\n",
       "      <td>Venusaur</td>\n",
       "      <td>80</td>\n",
       "      <td>82</td>\n",
       "      <td>83</td>\n",
       "      <td>100</td>\n",
       "      <td>100</td>\n",
       "      <td>80</td>\n",
       "      <td>525</td>\n",
       "      <td>...</td>\n",
       "      <td>45</td>\n",
       "      <td>1059860</td>\n",
       "      <td>Lv. 32</td>\n",
       "      <td>3.0</td>\n",
       "      <td>3.0</td>\n",
       "      <td>228.0</td>\n",
       "      <td>NaN</td>\n",
       "      <td>NaN</td>\n",
       "      <td>NaN</td>\n",
       "      <td>Venusaur</td>\n",
       "    </tr>\n",
       "    <tr>\n",
       "      <th>3</th>\n",
       "      <td>4.0</td>\n",
       "      <td>4.0</td>\n",
       "      <td>Charmander</td>\n",
       "      <td>39</td>\n",
       "      <td>52</td>\n",
       "      <td>43</td>\n",
       "      <td>60</td>\n",
       "      <td>50</td>\n",
       "      <td>65</td>\n",
       "      <td>309</td>\n",
       "      <td>...</td>\n",
       "      <td>45</td>\n",
       "      <td>1059860</td>\n",
       "      <td>NaN</td>\n",
       "      <td>4.0</td>\n",
       "      <td>4.0</td>\n",
       "      <td>229.0</td>\n",
       "      <td>NaN</td>\n",
       "      <td>NaN</td>\n",
       "      <td>NaN</td>\n",
       "      <td>Charmander</td>\n",
       "    </tr>\n",
       "    <tr>\n",
       "      <th>4</th>\n",
       "      <td>5.0</td>\n",
       "      <td>5.0</td>\n",
       "      <td>Charmeleon</td>\n",
       "      <td>58</td>\n",
       "      <td>64</td>\n",
       "      <td>58</td>\n",
       "      <td>80</td>\n",
       "      <td>65</td>\n",
       "      <td>80</td>\n",
       "      <td>405</td>\n",
       "      <td>...</td>\n",
       "      <td>45</td>\n",
       "      <td>1059860</td>\n",
       "      <td>Lv. 16</td>\n",
       "      <td>5.0</td>\n",
       "      <td>5.0</td>\n",
       "      <td>230.0</td>\n",
       "      <td>NaN</td>\n",
       "      <td>NaN</td>\n",
       "      <td>NaN</td>\n",
       "      <td>Charmeleon</td>\n",
       "    </tr>\n",
       "    <tr>\n",
       "      <th>...</th>\n",
       "      <td>...</td>\n",
       "      <td>...</td>\n",
       "      <td>...</td>\n",
       "      <td>...</td>\n",
       "      <td>...</td>\n",
       "      <td>...</td>\n",
       "      <td>...</td>\n",
       "      <td>...</td>\n",
       "      <td>...</td>\n",
       "      <td>...</td>\n",
       "      <td>...</td>\n",
       "      <td>...</td>\n",
       "      <td>...</td>\n",
       "      <td>...</td>\n",
       "      <td>...</td>\n",
       "      <td>...</td>\n",
       "      <td>...</td>\n",
       "      <td>...</td>\n",
       "      <td>...</td>\n",
       "      <td>...</td>\n",
       "      <td>...</td>\n",
       "    </tr>\n",
       "    <tr>\n",
       "      <th>658</th>\n",
       "      <td>646.0</td>\n",
       "      <td>646.0</td>\n",
       "      <td>Kyurem</td>\n",
       "      <td>125</td>\n",
       "      <td>130</td>\n",
       "      <td>90</td>\n",
       "      <td>130</td>\n",
       "      <td>90</td>\n",
       "      <td>95</td>\n",
       "      <td>660</td>\n",
       "      <td>...</td>\n",
       "      <td>3</td>\n",
       "      <td>1250000</td>\n",
       "      <td>N</td>\n",
       "      <td>646.0</td>\n",
       "      <td>646.0</td>\n",
       "      <td>NaN</td>\n",
       "      <td>NaN</td>\n",
       "      <td>NaN</td>\n",
       "      <td>152.0</td>\n",
       "      <td>Kyurem</td>\n",
       "    </tr>\n",
       "    <tr>\n",
       "      <th>659</th>\n",
       "      <td>647.0</td>\n",
       "      <td>647.0</td>\n",
       "      <td>Keldeo</td>\n",
       "      <td>91</td>\n",
       "      <td>72</td>\n",
       "      <td>90</td>\n",
       "      <td>129</td>\n",
       "      <td>90</td>\n",
       "      <td>108</td>\n",
       "      <td>580</td>\n",
       "      <td>...</td>\n",
       "      <td>3</td>\n",
       "      <td>1250000</td>\n",
       "      <td>N</td>\n",
       "      <td>647.0</td>\n",
       "      <td>647.0</td>\n",
       "      <td>NaN</td>\n",
       "      <td>NaN</td>\n",
       "      <td>NaN</td>\n",
       "      <td>153.0</td>\n",
       "      <td>Keldeo</td>\n",
       "    </tr>\n",
       "    <tr>\n",
       "      <th>660</th>\n",
       "      <td>648.0</td>\n",
       "      <td>648.0</td>\n",
       "      <td>Meloetta (A)</td>\n",
       "      <td>100</td>\n",
       "      <td>77</td>\n",
       "      <td>77</td>\n",
       "      <td>128</td>\n",
       "      <td>128</td>\n",
       "      <td>90</td>\n",
       "      <td>600</td>\n",
       "      <td>...</td>\n",
       "      <td>3</td>\n",
       "      <td>1250000</td>\n",
       "      <td>N</td>\n",
       "      <td>648.0</td>\n",
       "      <td>648.0</td>\n",
       "      <td>NaN</td>\n",
       "      <td>NaN</td>\n",
       "      <td>NaN</td>\n",
       "      <td>154.0</td>\n",
       "      <td>Meloetta (A)</td>\n",
       "    </tr>\n",
       "    <tr>\n",
       "      <th>661</th>\n",
       "      <td>648.1</td>\n",
       "      <td>648.1</td>\n",
       "      <td>Meloetta (P)</td>\n",
       "      <td>100</td>\n",
       "      <td>128</td>\n",
       "      <td>90</td>\n",
       "      <td>77</td>\n",
       "      <td>77</td>\n",
       "      <td>128</td>\n",
       "      <td>600</td>\n",
       "      <td>...</td>\n",
       "      <td>3</td>\n",
       "      <td>1250000</td>\n",
       "      <td>N</td>\n",
       "      <td>648.1</td>\n",
       "      <td>648.1</td>\n",
       "      <td>NaN</td>\n",
       "      <td>NaN</td>\n",
       "      <td>NaN</td>\n",
       "      <td>154.1</td>\n",
       "      <td>Meloetta (P)</td>\n",
       "    </tr>\n",
       "    <tr>\n",
       "      <th>662</th>\n",
       "      <td>649.0</td>\n",
       "      <td>649.0</td>\n",
       "      <td>Genesect</td>\n",
       "      <td>71</td>\n",
       "      <td>120</td>\n",
       "      <td>95</td>\n",
       "      <td>120</td>\n",
       "      <td>95</td>\n",
       "      <td>99</td>\n",
       "      <td>600</td>\n",
       "      <td>...</td>\n",
       "      <td>3</td>\n",
       "      <td>1250000</td>\n",
       "      <td>N</td>\n",
       "      <td>649.0</td>\n",
       "      <td>649.0</td>\n",
       "      <td>NaN</td>\n",
       "      <td>NaN</td>\n",
       "      <td>NaN</td>\n",
       "      <td>155.0</td>\n",
       "      <td>Genesect</td>\n",
       "    </tr>\n",
       "  </tbody>\n",
       "</table>\n",
       "<p>663 rows × 35 columns</p>\n",
       "</div>"
      ],
      "text/plain": [
       "       Per    Nat       Pokemon   HP  Atk  Def  SpA  SpD  Spe  Total  ...  \\\n",
       "0      1.0    1.0     Bulbasaur   45   49   49   65   65   45    318  ...   \n",
       "1      2.0    2.0       Ivysaur   60   62   63   80   80   60    405  ...   \n",
       "2      3.0    3.0      Venusaur   80   82   83  100  100   80    525  ...   \n",
       "3      4.0    4.0    Charmander   39   52   43   60   50   65    309  ...   \n",
       "4      5.0    5.0    Charmeleon   58   64   58   80   65   80    405  ...   \n",
       "..     ...    ...           ...  ...  ...  ...  ...  ...  ...    ...  ...   \n",
       "658  646.0  646.0        Kyurem  125  130   90  130   90   95    660  ...   \n",
       "659  647.0  647.0        Keldeo   91   72   90  129   90  108    580  ...   \n",
       "660  648.0  648.0  Meloetta (A)  100   77   77  128  128   90    600  ...   \n",
       "661  648.1  648.1  Meloetta (P)  100  128   90   77   77  128    600  ...   \n",
       "662  649.0  649.0      Genesect   71  120   95  120   95   99    600  ...   \n",
       "\n",
       "    Catch      EXP  Evolve  Per.1  Nat.1    Joh Hoe  Sin     Un     Pokemon.1  \n",
       "0      45  1059860     NaN    1.0    1.0  226.0 NaN  NaN    NaN     Bulbasaur  \n",
       "1      45  1059860  Lv. 16    2.0    2.0  227.0 NaN  NaN    NaN       Ivysaur  \n",
       "2      45  1059860  Lv. 32    3.0    3.0  228.0 NaN  NaN    NaN      Venusaur  \n",
       "3      45  1059860     NaN    4.0    4.0  229.0 NaN  NaN    NaN    Charmander  \n",
       "4      45  1059860  Lv. 16    5.0    5.0  230.0 NaN  NaN    NaN    Charmeleon  \n",
       "..    ...      ...     ...    ...    ...    ...  ..  ...    ...           ...  \n",
       "658     3  1250000       N  646.0  646.0    NaN NaN  NaN  152.0        Kyurem  \n",
       "659     3  1250000       N  647.0  647.0    NaN NaN  NaN  153.0        Keldeo  \n",
       "660     3  1250000       N  648.0  648.0    NaN NaN  NaN  154.0  Meloetta (A)  \n",
       "661     3  1250000       N  648.1  648.1    NaN NaN  NaN  154.1  Meloetta (P)  \n",
       "662     3  1250000       N  649.0  649.0    NaN NaN  NaN  155.0      Genesect  \n",
       "\n",
       "[663 rows x 35 columns]"
      ]
     },
     "execution_count": 27,
     "metadata": {},
     "output_type": "execute_result"
    }
   ],
   "source": [
    "df.head(700)"
   ]
  },
  {
   "cell_type": "code",
   "execution_count": null,
   "id": "002ca0e3-b354-4390-8d31-9dfc9ae5aa08",
   "metadata": {},
   "outputs": [],
   "source": []
  }
 ],
 "metadata": {
  "kernelspec": {
   "display_name": "Python 3 (ipykernel)",
   "language": "python",
   "name": "python3"
  },
  "language_info": {
   "codemirror_mode": {
    "name": "ipython",
    "version": 3
   },
   "file_extension": ".py",
   "mimetype": "text/x-python",
   "name": "python",
   "nbconvert_exporter": "python",
   "pygments_lexer": "ipython3",
   "version": "3.10.13"
  }
 },
 "nbformat": 4,
 "nbformat_minor": 5
}
