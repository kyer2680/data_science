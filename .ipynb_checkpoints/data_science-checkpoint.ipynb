{
 "cells": [
  {
   "cell_type": "markdown",
   "id": "47f04cca-e732-478f-9923-5f4a9fe06bd9",
   "metadata": {},
   "source": [
    "# Intro to Data Science with Pokemon \n",
    "***"
   ]
  },
  {
   "cell_type": "markdown",
   "id": "74ca7a28-4f85-4624-aa90-ad28d9fab5f3",
   "metadata": {},
   "source": [
    "### Arrays"
   ]
  },
  {
   "cell_type": "code",
   "execution_count": 2,
   "id": "60578702-f7ad-4a01-b8fc-7dc862d71b29",
   "metadata": {},
   "outputs": [],
   "source": [
    "food = [\"ham\", \"cheese\", \"bread\", \"mayo\", \"tomatoes\", \"bacon\", \"lettuce\"]"
   ]
  },
  {
   "cell_type": "code",
   "execution_count": 3,
   "id": "26769dc3-7cce-4713-b2ef-bb10f2fbb7e7",
   "metadata": {},
   "outputs": [
    {
     "name": "stdout",
     "output_type": "stream",
     "text": [
      "['ham', 'cheese', 'bread', 'mayo', 'tomatoes', 'bacon', 'lettuce']\n"
     ]
    }
   ],
   "source": [
    "print(food);"
   ]
  },
  {
   "cell_type": "code",
   "execution_count": 4,
   "id": "27919a91-5751-482e-981d-203a9e8f8211",
   "metadata": {},
   "outputs": [
    {
     "name": "stdout",
     "output_type": "stream",
     "text": [
      "ham\n"
     ]
    }
   ],
   "source": [
    "print(food[0]);"
   ]
  },
  {
   "cell_type": "code",
   "execution_count": 5,
   "id": "ad5bc151-d7d8-4112-9096-74b1e5a5432e",
   "metadata": {},
   "outputs": [
    {
     "name": "stdout",
     "output_type": "stream",
     "text": [
      "tomatoes\n"
     ]
    }
   ],
   "source": [
    "print(food[4]);"
   ]
  },
  {
   "cell_type": "code",
   "execution_count": 6,
   "id": "f952e183-6d62-4771-b096-6c4825c43366",
   "metadata": {},
   "outputs": [],
   "source": [
    "sliced_food = food[0:3];"
   ]
  },
  {
   "cell_type": "code",
   "execution_count": 7,
   "id": "b8905e79-8f0c-40f4-8904-3f17a54c7a55",
   "metadata": {},
   "outputs": [
    {
     "name": "stdout",
     "output_type": "stream",
     "text": [
      "['ham', 'cheese', 'bread']\n"
     ]
    }
   ],
   "source": [
    "print(sliced_food);"
   ]
  },
  {
   "cell_type": "code",
   "execution_count": 8,
   "id": "e6568cee-3490-49a3-88dd-eb7066000a72",
   "metadata": {},
   "outputs": [
    {
     "name": "stdout",
     "output_type": "stream",
     "text": [
      "['ham', 'cheese', 'bread']\n"
     ]
    }
   ],
   "source": [
    "print(sliced_food);"
   ]
  },
  {
   "cell_type": "markdown",
   "id": "14787e56-0ca6-4139-b275-3d810a28a4b2",
   "metadata": {},
   "source": [
    "### Import Libraries\n",
    "***"
   ]
  },
  {
   "cell_type": "code",
   "execution_count": 9,
   "id": "9834d739-dff3-4919-8808-950882315a81",
   "metadata": {},
   "outputs": [],
   "source": [
    "import pandas as pd \n",
    "import numpy as py\n",
    "import seaborn as sb"
   ]
  },
  {
   "cell_type": "code",
   "execution_count": 10,
   "id": "c165df2a-d06e-430d-800d-7c78a4c7904c",
   "metadata": {},
   "outputs": [
    {
     "name": "stdout",
     "output_type": "stream",
     "text": [
      "pandas version 2.1.3\n",
      "numpy version 1.26.2\n",
      "seaborn version 0.13.0\n"
     ]
    }
   ],
   "source": [
    "print(\"pandas version \" + pd.__version__)\n",
    "print(\"numpy version \" + py.__version__)\n",
    "print(\"seaborn version \" + sb.__version__)"
   ]
  },
  {
   "cell_type": "markdown",
   "id": "595de0f7-97a4-487a-9979-7f03e5dc223d",
   "metadata": {},
   "source": [
    "### Loading Data\n",
    "***"
   ]
  },
  {
   "cell_type": "code",
   "execution_count": 11,
   "id": "6d79dafc-ca9f-4dc8-b580-2fa53c828d2d",
   "metadata": {},
   "outputs": [],
   "source": [
    "df = pd.read_csv('pokemon.csv')"
   ]
  },
  {
   "cell_type": "markdown",
   "id": "6e323561-e378-450e-b201-88e127fd8511",
   "metadata": {},
   "source": [
    "### Displayed Full Data Frames \n",
    "***"
   ]
  },
  {
   "cell_type": "code",
   "execution_count": 12,
   "id": "85baf9e1-bfee-46cc-b326-a4044d554aff",
   "metadata": {},
   "outputs": [],
   "source": [
    "pd.set_option('display.max_rows', 20)"
   ]
  },
  {
   "cell_type": "code",
   "execution_count": 13,
   "id": "5c6d28dd-8b9d-4275-a764-f32a77244ae6",
   "metadata": {},
   "outputs": [
    {
     "data": {
      "text/html": [
       "<div>\n",
       "<style scoped>\n",
       "    .dataframe tbody tr th:only-of-type {\n",
       "        vertical-align: middle;\n",
       "    }\n",
       "\n",
       "    .dataframe tbody tr th {\n",
       "        vertical-align: top;\n",
       "    }\n",
       "\n",
       "    .dataframe thead th {\n",
       "        text-align: right;\n",
       "    }\n",
       "</style>\n",
       "<table border=\"1\" class=\"dataframe\">\n",
       "  <thead>\n",
       "    <tr style=\"text-align: right;\">\n",
       "      <th></th>\n",
       "      <th>Per</th>\n",
       "      <th>Nat</th>\n",
       "      <th>Pokemon</th>\n",
       "      <th>HP</th>\n",
       "      <th>Atk</th>\n",
       "      <th>Def</th>\n",
       "      <th>SpA</th>\n",
       "      <th>SpD</th>\n",
       "      <th>Spe</th>\n",
       "      <th>Total</th>\n",
       "      <th>...</th>\n",
       "      <th>Catch</th>\n",
       "      <th>EXP</th>\n",
       "      <th>Evolve</th>\n",
       "      <th>Per.1</th>\n",
       "      <th>Nat.1</th>\n",
       "      <th>Joh</th>\n",
       "      <th>Hoe</th>\n",
       "      <th>Sin</th>\n",
       "      <th>Un</th>\n",
       "      <th>Pokemon.1</th>\n",
       "    </tr>\n",
       "  </thead>\n",
       "  <tbody>\n",
       "    <tr>\n",
       "      <th>0</th>\n",
       "      <td>1.0</td>\n",
       "      <td>1.0</td>\n",
       "      <td>Bulbasaur</td>\n",
       "      <td>45</td>\n",
       "      <td>49</td>\n",
       "      <td>49</td>\n",
       "      <td>65</td>\n",
       "      <td>65</td>\n",
       "      <td>45</td>\n",
       "      <td>318</td>\n",
       "      <td>...</td>\n",
       "      <td>45</td>\n",
       "      <td>1059860</td>\n",
       "      <td>NaN</td>\n",
       "      <td>1.0</td>\n",
       "      <td>1.0</td>\n",
       "      <td>226.0</td>\n",
       "      <td>NaN</td>\n",
       "      <td>NaN</td>\n",
       "      <td>NaN</td>\n",
       "      <td>Bulbasaur</td>\n",
       "    </tr>\n",
       "    <tr>\n",
       "      <th>1</th>\n",
       "      <td>2.0</td>\n",
       "      <td>2.0</td>\n",
       "      <td>Ivysaur</td>\n",
       "      <td>60</td>\n",
       "      <td>62</td>\n",
       "      <td>63</td>\n",
       "      <td>80</td>\n",
       "      <td>80</td>\n",
       "      <td>60</td>\n",
       "      <td>405</td>\n",
       "      <td>...</td>\n",
       "      <td>45</td>\n",
       "      <td>1059860</td>\n",
       "      <td>Lv. 16</td>\n",
       "      <td>2.0</td>\n",
       "      <td>2.0</td>\n",
       "      <td>227.0</td>\n",
       "      <td>NaN</td>\n",
       "      <td>NaN</td>\n",
       "      <td>NaN</td>\n",
       "      <td>Ivysaur</td>\n",
       "    </tr>\n",
       "    <tr>\n",
       "      <th>2</th>\n",
       "      <td>3.0</td>\n",
       "      <td>3.0</td>\n",
       "      <td>Venusaur</td>\n",
       "      <td>80</td>\n",
       "      <td>82</td>\n",
       "      <td>83</td>\n",
       "      <td>100</td>\n",
       "      <td>100</td>\n",
       "      <td>80</td>\n",
       "      <td>525</td>\n",
       "      <td>...</td>\n",
       "      <td>45</td>\n",
       "      <td>1059860</td>\n",
       "      <td>Lv. 32</td>\n",
       "      <td>3.0</td>\n",
       "      <td>3.0</td>\n",
       "      <td>228.0</td>\n",
       "      <td>NaN</td>\n",
       "      <td>NaN</td>\n",
       "      <td>NaN</td>\n",
       "      <td>Venusaur</td>\n",
       "    </tr>\n",
       "    <tr>\n",
       "      <th>3</th>\n",
       "      <td>4.0</td>\n",
       "      <td>4.0</td>\n",
       "      <td>Charmander</td>\n",
       "      <td>39</td>\n",
       "      <td>52</td>\n",
       "      <td>43</td>\n",
       "      <td>60</td>\n",
       "      <td>50</td>\n",
       "      <td>65</td>\n",
       "      <td>309</td>\n",
       "      <td>...</td>\n",
       "      <td>45</td>\n",
       "      <td>1059860</td>\n",
       "      <td>NaN</td>\n",
       "      <td>4.0</td>\n",
       "      <td>4.0</td>\n",
       "      <td>229.0</td>\n",
       "      <td>NaN</td>\n",
       "      <td>NaN</td>\n",
       "      <td>NaN</td>\n",
       "      <td>Charmander</td>\n",
       "    </tr>\n",
       "    <tr>\n",
       "      <th>4</th>\n",
       "      <td>5.0</td>\n",
       "      <td>5.0</td>\n",
       "      <td>Charmeleon</td>\n",
       "      <td>58</td>\n",
       "      <td>64</td>\n",
       "      <td>58</td>\n",
       "      <td>80</td>\n",
       "      <td>65</td>\n",
       "      <td>80</td>\n",
       "      <td>405</td>\n",
       "      <td>...</td>\n",
       "      <td>45</td>\n",
       "      <td>1059860</td>\n",
       "      <td>Lv. 16</td>\n",
       "      <td>5.0</td>\n",
       "      <td>5.0</td>\n",
       "      <td>230.0</td>\n",
       "      <td>NaN</td>\n",
       "      <td>NaN</td>\n",
       "      <td>NaN</td>\n",
       "      <td>Charmeleon</td>\n",
       "    </tr>\n",
       "    <tr>\n",
       "      <th>...</th>\n",
       "      <td>...</td>\n",
       "      <td>...</td>\n",
       "      <td>...</td>\n",
       "      <td>...</td>\n",
       "      <td>...</td>\n",
       "      <td>...</td>\n",
       "      <td>...</td>\n",
       "      <td>...</td>\n",
       "      <td>...</td>\n",
       "      <td>...</td>\n",
       "      <td>...</td>\n",
       "      <td>...</td>\n",
       "      <td>...</td>\n",
       "      <td>...</td>\n",
       "      <td>...</td>\n",
       "      <td>...</td>\n",
       "      <td>...</td>\n",
       "      <td>...</td>\n",
       "      <td>...</td>\n",
       "      <td>...</td>\n",
       "      <td>...</td>\n",
       "    </tr>\n",
       "    <tr>\n",
       "      <th>658</th>\n",
       "      <td>646.0</td>\n",
       "      <td>646.0</td>\n",
       "      <td>Kyurem</td>\n",
       "      <td>125</td>\n",
       "      <td>130</td>\n",
       "      <td>90</td>\n",
       "      <td>130</td>\n",
       "      <td>90</td>\n",
       "      <td>95</td>\n",
       "      <td>660</td>\n",
       "      <td>...</td>\n",
       "      <td>3</td>\n",
       "      <td>1250000</td>\n",
       "      <td>N</td>\n",
       "      <td>646.0</td>\n",
       "      <td>646.0</td>\n",
       "      <td>NaN</td>\n",
       "      <td>NaN</td>\n",
       "      <td>NaN</td>\n",
       "      <td>152.0</td>\n",
       "      <td>Kyurem</td>\n",
       "    </tr>\n",
       "    <tr>\n",
       "      <th>659</th>\n",
       "      <td>647.0</td>\n",
       "      <td>647.0</td>\n",
       "      <td>Keldeo</td>\n",
       "      <td>91</td>\n",
       "      <td>72</td>\n",
       "      <td>90</td>\n",
       "      <td>129</td>\n",
       "      <td>90</td>\n",
       "      <td>108</td>\n",
       "      <td>580</td>\n",
       "      <td>...</td>\n",
       "      <td>3</td>\n",
       "      <td>1250000</td>\n",
       "      <td>N</td>\n",
       "      <td>647.0</td>\n",
       "      <td>647.0</td>\n",
       "      <td>NaN</td>\n",
       "      <td>NaN</td>\n",
       "      <td>NaN</td>\n",
       "      <td>153.0</td>\n",
       "      <td>Keldeo</td>\n",
       "    </tr>\n",
       "    <tr>\n",
       "      <th>660</th>\n",
       "      <td>648.0</td>\n",
       "      <td>648.0</td>\n",
       "      <td>Meloetta (A)</td>\n",
       "      <td>100</td>\n",
       "      <td>77</td>\n",
       "      <td>77</td>\n",
       "      <td>128</td>\n",
       "      <td>128</td>\n",
       "      <td>90</td>\n",
       "      <td>600</td>\n",
       "      <td>...</td>\n",
       "      <td>3</td>\n",
       "      <td>1250000</td>\n",
       "      <td>N</td>\n",
       "      <td>648.0</td>\n",
       "      <td>648.0</td>\n",
       "      <td>NaN</td>\n",
       "      <td>NaN</td>\n",
       "      <td>NaN</td>\n",
       "      <td>154.0</td>\n",
       "      <td>Meloetta (A)</td>\n",
       "    </tr>\n",
       "    <tr>\n",
       "      <th>661</th>\n",
       "      <td>648.1</td>\n",
       "      <td>648.1</td>\n",
       "      <td>Meloetta (P)</td>\n",
       "      <td>100</td>\n",
       "      <td>128</td>\n",
       "      <td>90</td>\n",
       "      <td>77</td>\n",
       "      <td>77</td>\n",
       "      <td>128</td>\n",
       "      <td>600</td>\n",
       "      <td>...</td>\n",
       "      <td>3</td>\n",
       "      <td>1250000</td>\n",
       "      <td>N</td>\n",
       "      <td>648.1</td>\n",
       "      <td>648.1</td>\n",
       "      <td>NaN</td>\n",
       "      <td>NaN</td>\n",
       "      <td>NaN</td>\n",
       "      <td>154.1</td>\n",
       "      <td>Meloetta (P)</td>\n",
       "    </tr>\n",
       "    <tr>\n",
       "      <th>662</th>\n",
       "      <td>649.0</td>\n",
       "      <td>649.0</td>\n",
       "      <td>Genesect</td>\n",
       "      <td>71</td>\n",
       "      <td>120</td>\n",
       "      <td>95</td>\n",
       "      <td>120</td>\n",
       "      <td>95</td>\n",
       "      <td>99</td>\n",
       "      <td>600</td>\n",
       "      <td>...</td>\n",
       "      <td>3</td>\n",
       "      <td>1250000</td>\n",
       "      <td>N</td>\n",
       "      <td>649.0</td>\n",
       "      <td>649.0</td>\n",
       "      <td>NaN</td>\n",
       "      <td>NaN</td>\n",
       "      <td>NaN</td>\n",
       "      <td>155.0</td>\n",
       "      <td>Genesect</td>\n",
       "    </tr>\n",
       "  </tbody>\n",
       "</table>\n",
       "<p>663 rows × 35 columns</p>\n",
       "</div>"
      ],
      "text/plain": [
       "       Per    Nat       Pokemon   HP  Atk  Def  SpA  SpD  Spe  Total  ...  \\\n",
       "0      1.0    1.0     Bulbasaur   45   49   49   65   65   45    318  ...   \n",
       "1      2.0    2.0       Ivysaur   60   62   63   80   80   60    405  ...   \n",
       "2      3.0    3.0      Venusaur   80   82   83  100  100   80    525  ...   \n",
       "3      4.0    4.0    Charmander   39   52   43   60   50   65    309  ...   \n",
       "4      5.0    5.0    Charmeleon   58   64   58   80   65   80    405  ...   \n",
       "..     ...    ...           ...  ...  ...  ...  ...  ...  ...    ...  ...   \n",
       "658  646.0  646.0        Kyurem  125  130   90  130   90   95    660  ...   \n",
       "659  647.0  647.0        Keldeo   91   72   90  129   90  108    580  ...   \n",
       "660  648.0  648.0  Meloetta (A)  100   77   77  128  128   90    600  ...   \n",
       "661  648.1  648.1  Meloetta (P)  100  128   90   77   77  128    600  ...   \n",
       "662  649.0  649.0      Genesect   71  120   95  120   95   99    600  ...   \n",
       "\n",
       "    Catch      EXP  Evolve  Per.1  Nat.1    Joh Hoe  Sin     Un     Pokemon.1  \n",
       "0      45  1059860     NaN    1.0    1.0  226.0 NaN  NaN    NaN     Bulbasaur  \n",
       "1      45  1059860  Lv. 16    2.0    2.0  227.0 NaN  NaN    NaN       Ivysaur  \n",
       "2      45  1059860  Lv. 32    3.0    3.0  228.0 NaN  NaN    NaN      Venusaur  \n",
       "3      45  1059860     NaN    4.0    4.0  229.0 NaN  NaN    NaN    Charmander  \n",
       "4      45  1059860  Lv. 16    5.0    5.0  230.0 NaN  NaN    NaN    Charmeleon  \n",
       "..    ...      ...     ...    ...    ...    ...  ..  ...    ...           ...  \n",
       "658     3  1250000       N  646.0  646.0    NaN NaN  NaN  152.0        Kyurem  \n",
       "659     3  1250000       N  647.0  647.0    NaN NaN  NaN  153.0        Keldeo  \n",
       "660     3  1250000       N  648.0  648.0    NaN NaN  NaN  154.0  Meloetta (A)  \n",
       "661     3  1250000       N  648.1  648.1    NaN NaN  NaN  154.1  Meloetta (P)  \n",
       "662     3  1250000       N  649.0  649.0    NaN NaN  NaN  155.0      Genesect  \n",
       "\n",
       "[663 rows x 35 columns]"
      ]
     },
     "execution_count": 13,
     "metadata": {},
     "output_type": "execute_result"
    }
   ],
   "source": [
    "df.head(700)"
   ]
  },
  {
   "cell_type": "markdown",
   "id": "817ca269-4932-46a6-8d10-8f3ec7b9083c",
   "metadata": {},
   "source": [
    "### Accessing Columns \n",
    "***"
   ]
  },
  {
   "cell_type": "code",
   "execution_count": 14,
   "id": "26b71796-0a3c-40ea-913d-5766b15c5544",
   "metadata": {},
   "outputs": [
    {
     "data": {
      "text/plain": [
       "0         Bulbasaur\n",
       "1           Ivysaur\n",
       "2          Venusaur\n",
       "3        Charmander\n",
       "4        Charmeleon\n",
       "           ...     \n",
       "658          Kyurem\n",
       "659          Keldeo\n",
       "660    Meloetta (A)\n",
       "661    Meloetta (P)\n",
       "662        Genesect\n",
       "Name: Pokemon, Length: 663, dtype: object"
      ]
     },
     "execution_count": 14,
     "metadata": {},
     "output_type": "execute_result"
    }
   ],
   "source": [
    "df.Pokemon"
   ]
  },
  {
   "cell_type": "code",
   "execution_count": 15,
   "id": "b9628511-a5db-4377-b322-5df358e85688",
   "metadata": {},
   "outputs": [
    {
     "data": {
      "text/plain": [
       "'Metapod'"
      ]
     },
     "execution_count": 15,
     "metadata": {},
     "output_type": "execute_result"
    }
   ],
   "source": [
    "df.Pokemon[10]"
   ]
  },
  {
   "cell_type": "code",
   "execution_count": 16,
   "id": "4817598f-3aee-48a5-bd21-9fc8d328b27d",
   "metadata": {},
   "outputs": [
    {
     "data": {
      "text/plain": [
       "0     Bulbasaur\n",
       "1       Ivysaur\n",
       "2      Venusaur\n",
       "3    Charmander\n",
       "4    Charmeleon\n",
       "5     Charizard\n",
       "6      Squirtle\n",
       "7     Wartortle\n",
       "8     Blastoise\n",
       "9      Caterpie\n",
       "Name: Pokemon, dtype: object"
      ]
     },
     "execution_count": 16,
     "metadata": {},
     "output_type": "execute_result"
    }
   ],
   "source": [
    "df.Pokemon[0:10]"
   ]
  },
  {
   "cell_type": "markdown",
   "id": "59236d71-1151-4e48-a06d-edb520fa9a53",
   "metadata": {},
   "source": [
    "### Accessing Multiple Columns\n",
    "***"
   ]
  },
  {
   "cell_type": "markdown",
   "id": "2ac0f6fb-d0b7-43e8-9ca7-7203ca5837dc",
   "metadata": {},
   "source": [
    "You can access multiple columns, using a variable"
   ]
  },
  {
   "cell_type": "code",
   "execution_count": 17,
   "id": "93445ca3-ce2b-4459-90b3-8308aa93d13e",
   "metadata": {},
   "outputs": [],
   "source": [
    "pokemon_Atk_HP = df[['Pokemon', 'HP', 'Atk']]"
   ]
  },
  {
   "cell_type": "code",
   "execution_count": 18,
   "id": "4d80d1a0-933c-4b41-a56c-44842143c19b",
   "metadata": {},
   "outputs": [
    {
     "data": {
      "text/html": [
       "<div>\n",
       "<style scoped>\n",
       "    .dataframe tbody tr th:only-of-type {\n",
       "        vertical-align: middle;\n",
       "    }\n",
       "\n",
       "    .dataframe tbody tr th {\n",
       "        vertical-align: top;\n",
       "    }\n",
       "\n",
       "    .dataframe thead th {\n",
       "        text-align: right;\n",
       "    }\n",
       "</style>\n",
       "<table border=\"1\" class=\"dataframe\">\n",
       "  <thead>\n",
       "    <tr style=\"text-align: right;\">\n",
       "      <th></th>\n",
       "      <th>Pokemon</th>\n",
       "      <th>HP</th>\n",
       "      <th>Atk</th>\n",
       "    </tr>\n",
       "  </thead>\n",
       "  <tbody>\n",
       "    <tr>\n",
       "      <th>0</th>\n",
       "      <td>Bulbasaur</td>\n",
       "      <td>45</td>\n",
       "      <td>49</td>\n",
       "    </tr>\n",
       "    <tr>\n",
       "      <th>1</th>\n",
       "      <td>Ivysaur</td>\n",
       "      <td>60</td>\n",
       "      <td>62</td>\n",
       "    </tr>\n",
       "    <tr>\n",
       "      <th>2</th>\n",
       "      <td>Venusaur</td>\n",
       "      <td>80</td>\n",
       "      <td>82</td>\n",
       "    </tr>\n",
       "    <tr>\n",
       "      <th>3</th>\n",
       "      <td>Charmander</td>\n",
       "      <td>39</td>\n",
       "      <td>52</td>\n",
       "    </tr>\n",
       "    <tr>\n",
       "      <th>4</th>\n",
       "      <td>Charmeleon</td>\n",
       "      <td>58</td>\n",
       "      <td>64</td>\n",
       "    </tr>\n",
       "    <tr>\n",
       "      <th>5</th>\n",
       "      <td>Charizard</td>\n",
       "      <td>78</td>\n",
       "      <td>84</td>\n",
       "    </tr>\n",
       "    <tr>\n",
       "      <th>6</th>\n",
       "      <td>Squirtle</td>\n",
       "      <td>44</td>\n",
       "      <td>48</td>\n",
       "    </tr>\n",
       "    <tr>\n",
       "      <th>7</th>\n",
       "      <td>Wartortle</td>\n",
       "      <td>59</td>\n",
       "      <td>63</td>\n",
       "    </tr>\n",
       "    <tr>\n",
       "      <th>8</th>\n",
       "      <td>Blastoise</td>\n",
       "      <td>79</td>\n",
       "      <td>83</td>\n",
       "    </tr>\n",
       "    <tr>\n",
       "      <th>9</th>\n",
       "      <td>Caterpie</td>\n",
       "      <td>45</td>\n",
       "      <td>30</td>\n",
       "    </tr>\n",
       "  </tbody>\n",
       "</table>\n",
       "</div>"
      ],
      "text/plain": [
       "      Pokemon  HP  Atk\n",
       "0   Bulbasaur  45   49\n",
       "1     Ivysaur  60   62\n",
       "2    Venusaur  80   82\n",
       "3  Charmander  39   52\n",
       "4  Charmeleon  58   64\n",
       "5   Charizard  78   84\n",
       "6    Squirtle  44   48\n",
       "7   Wartortle  59   63\n",
       "8   Blastoise  79   83\n",
       "9    Caterpie  45   30"
      ]
     },
     "execution_count": 18,
     "metadata": {},
     "output_type": "execute_result"
    }
   ],
   "source": [
    "pokemon_Atk_HP.head(10)"
   ]
  },
  {
   "cell_type": "markdown",
   "id": "ae5195ed-adb5-4891-96ed-dd9d005414b3",
   "metadata": {},
   "source": [
    "### Accessing Rows\n",
    "***"
   ]
  },
  {
   "cell_type": "code",
   "execution_count": 19,
   "id": "e84d9e22-a181-43af-b62c-047f14be38bc",
   "metadata": {},
   "outputs": [],
   "source": [
    "specific_row = df.iloc[0]"
   ]
  },
  {
   "cell_type": "code",
   "execution_count": 20,
   "id": "54fac751-90ac-4e11-9445-c9c3b12a8874",
   "metadata": {},
   "outputs": [
    {
     "name": "stdout",
     "output_type": "stream",
     "text": [
      "Per                1.0\n",
      "Nat                1.0\n",
      "Pokemon      Bulbasaur\n",
      "HP                  45\n",
      "Atk                 49\n",
      "               ...    \n",
      "Joh              226.0\n",
      "Hoe                NaN\n",
      "Sin                NaN\n",
      "Un                 NaN\n",
      "Pokemon.1    Bulbasaur\n",
      "Name: 0, Length: 35, dtype: object\n"
     ]
    }
   ],
   "source": [
    "print(specific_row)"
   ]
  },
  {
   "cell_type": "markdown",
   "id": "9ba4ee93-36a3-46ac-9349-caa898bf9f01",
   "metadata": {},
   "source": [
    "### Slicing Rows and Columns\n",
    "***"
   ]
  },
  {
   "cell_type": "code",
   "execution_count": 21,
   "id": "17bd9e9e-e975-486a-9e0e-b7bb900d15d7",
   "metadata": {},
   "outputs": [],
   "source": [
    "rows_zero_to_ten = df.iloc[0:10]"
   ]
  },
  {
   "cell_type": "code",
   "execution_count": 22,
   "id": "63875492-c770-4584-96a2-91ed0d9b00a7",
   "metadata": {},
   "outputs": [
    {
     "name": "stdout",
     "output_type": "stream",
     "text": [
      "    Per   Nat     Pokemon  HP  Atk  Def  SpA  SpD  Spe  Total  ... Catch  \\\n",
      "0   1.0   1.0   Bulbasaur  45   49   49   65   65   45    318  ...    45   \n",
      "1   2.0   2.0     Ivysaur  60   62   63   80   80   60    405  ...    45   \n",
      "2   3.0   3.0    Venusaur  80   82   83  100  100   80    525  ...    45   \n",
      "3   4.0   4.0  Charmander  39   52   43   60   50   65    309  ...    45   \n",
      "4   5.0   5.0  Charmeleon  58   64   58   80   65   80    405  ...    45   \n",
      "5   6.0   6.0   Charizard  78   84   78  109   85  100    534  ...    45   \n",
      "6   7.0   7.0    Squirtle  44   48   65   60   54   43    314  ...    45   \n",
      "7   8.0   8.0   Wartortle  59   63   80   65   80   58    405  ...    45   \n",
      "8   9.0   9.0   Blastoise  79   83  100   85  105   78    530  ...    45   \n",
      "9  10.0  10.0    Caterpie  45   30   35   20   20   45    195  ...   255   \n",
      "\n",
      "       EXP  Evolve Per.1 Nat.1    Joh Hoe  Sin  Un   Pokemon.1  \n",
      "0  1059860     NaN   1.0   1.0  226.0 NaN  NaN NaN   Bulbasaur  \n",
      "1  1059860  Lv. 16   2.0   2.0  227.0 NaN  NaN NaN     Ivysaur  \n",
      "2  1059860  Lv. 32   3.0   3.0  228.0 NaN  NaN NaN    Venusaur  \n",
      "3  1059860     NaN   4.0   4.0  229.0 NaN  NaN NaN  Charmander  \n",
      "4  1059860  Lv. 16   5.0   5.0  230.0 NaN  NaN NaN  Charmeleon  \n",
      "5  1059860  Lv. 36   6.0   6.0  231.0 NaN  NaN NaN   Charizard  \n",
      "6  1059860     NaN   7.0   7.0  232.0 NaN  NaN NaN    Squirtle  \n",
      "7  1059860  Lv. 16   8.0   8.0  233.0 NaN  NaN NaN   Wartortle  \n",
      "8  1059860  Lv. 36   9.0   9.0  234.0 NaN  NaN NaN   Blastoise  \n",
      "9  1000000     NaN  10.0  10.0   24.0 NaN  NaN NaN    Caterpie  \n",
      "\n",
      "[10 rows x 35 columns]\n"
     ]
    }
   ],
   "source": [
    "print(rows_zero_to_ten)"
   ]
  },
  {
   "cell_type": "markdown",
   "id": "fa9acb9f-bca0-4bc5-82b1-0d533c1a4680",
   "metadata": {},
   "source": [
    "### Useful Pandas Metods \n",
    "***"
   ]
  },
  {
   "cell_type": "code",
   "execution_count": 23,
   "id": "76b3d363-7160-4050-b14d-6e2a58e6bf7c",
   "metadata": {},
   "outputs": [
    {
     "data": {
      "text/plain": [
       "464     Abomasnow\n",
       "62           Abra\n",
       "358         Absol\n",
       "629      Accelgor\n",
       "141    Aerodactyl\n",
       "          ...    \n",
       "262     Zigzagoon\n",
       "583       Zoroark\n",
       "582         Zorua\n",
       "40          Zubat\n",
       "646      Zweilous\n",
       "Name: Pokemon, Length: 663, dtype: object"
      ]
     },
     "execution_count": 23,
     "metadata": {},
     "output_type": "execute_result"
    }
   ],
   "source": [
    "df.Pokemon.sort_values() "
   ]
  },
  {
   "cell_type": "code",
   "execution_count": 24,
   "id": "e97f7c06-81cc-481d-aa57-7596180f14f2",
   "metadata": {},
   "outputs": [
    {
     "data": {
      "text/plain": [
       "8     Blastoise\n",
       "0     Bulbasaur\n",
       "9      Caterpie\n",
       "5     Charizard\n",
       "3    Charmander\n",
       "4    Charmeleon\n",
       "1       Ivysaur\n",
       "6      Squirtle\n",
       "2      Venusaur\n",
       "7     Wartortle\n",
       "Name: Pokemon, dtype: object"
      ]
     },
     "execution_count": 24,
     "metadata": {},
     "output_type": "execute_result"
    }
   ],
   "source": [
    "df.Pokemon[0:10].sort_values()"
   ]
  },
  {
   "cell_type": "code",
   "execution_count": 25,
   "id": "bb55deb6-894a-4781-a3fd-860f6706b7a0",
   "metadata": {},
   "outputs": [
    {
     "data": {
      "text/plain": [
       "68.34087481146305"
      ]
     },
     "execution_count": 25,
     "metadata": {},
     "output_type": "execute_result"
    }
   ],
   "source": [
    "df.HP.mean()"
   ]
  },
  {
   "cell_type": "code",
   "execution_count": 26,
   "id": "00202718-2b18-4173-b178-b6ae6f16158b",
   "metadata": {},
   "outputs": [
    {
     "data": {
      "text/plain": [
       "count    663.000000\n",
       "mean      68.962293\n",
       "std       29.246841\n",
       "min       10.000000\n",
       "25%       45.000000\n",
       "50%       65.000000\n",
       "75%       90.000000\n",
       "max      180.000000\n",
       "Name: SpA, dtype: float64"
      ]
     },
     "execution_count": 26,
     "metadata": {},
     "output_type": "execute_result"
    }
   ],
   "source": [
    "df.SpA.describe()"
   ]
  },
  {
   "cell_type": "markdown",
   "id": "9cd1177e-e83c-4d70-9856-30ad1e5e7a20",
   "metadata": {},
   "source": [
    "### Filtering Data \n",
    "***"
   ]
  },
  {
   "cell_type": "code",
   "execution_count": 27,
   "id": "56136894-376b-4ab8-8465-24a30daa8578",
   "metadata": {},
   "outputs": [],
   "source": [
    "chu_pokemon = df[df['Pokemon'].str.contains(\"chu\")]"
   ]
  },
  {
   "cell_type": "code",
   "execution_count": 28,
   "id": "a8eb1bbf-bdbd-44fd-8ce9-0e835c18e2f6",
   "metadata": {},
   "outputs": [
    {
     "name": "stdout",
     "output_type": "stream",
     "text": [
      "       Per    Nat   Pokemon  HP  Atk  Def  SpA  SpD  Spe  Total  ... Catch  \\\n",
      "24    26.0   25.0   Pikachu  35   55   30   50   40   90    300  ...   190   \n",
      "25    27.0   26.0    Raichu  60   90   55   90   80  100    475  ...    75   \n",
      "171   25.0  172.0     Pichu  20   40   15   35   35   60    205  ...   190   \n",
      "237  143.0  238.0  Smoochum  45   30   15   85   65   65    305  ...    45   \n",
      "\n",
      "         EXP        Evolve  Per.1  Nat.1    Joh    Hoe    Sin  Un  Pokemon.1  \n",
      "24   1000000    Friendship   26.0   25.0   22.0  156.0  104.0 NaN    Pikachu  \n",
      "25   1000000  Thunderstone   27.0   26.0   23.0  157.0  105.0 NaN     Raichu  \n",
      "171  1000000           NaN   25.0  172.0   21.0  155.0  103.0 NaN      Pichu  \n",
      "237  1000000           NaN  143.0  238.0  152.0    NaN    NaN NaN   Smoochum  \n",
      "\n",
      "[4 rows x 35 columns]\n"
     ]
    }
   ],
   "source": [
    "print(chu_pokemon)"
   ]
  },
  {
   "cell_type": "code",
   "execution_count": 29,
   "id": "2f6fa1c4-cf7c-4d93-9906-05724c807e81",
   "metadata": {},
   "outputs": [],
   "source": [
    "special_attack_70 = df[df['SpA']== 70]"
   ]
  },
  {
   "cell_type": "code",
   "execution_count": 30,
   "id": "a4e9888a-6a43-416e-84df-d200fc4f5580",
   "metadata": {},
   "outputs": [
    {
     "name": "stdout",
     "output_type": "stream",
     "text": [
      "       Per    Nat     Pokemon  HP  Atk  Def  SpA  SpD  Spe  Total  ... Catch  \\\n",
      "17    18.0   18.0     Pidgeot  83   80   75   70   70   91    469  ...    45   \n",
      "57    63.0   58.0   Growlithe  55   70   45   70   50   60    350  ...   190   \n",
      "61    67.0   62.0   Poliwrath  90   85   95   70   90   70    500  ...    45   \n",
      "68    75.0   69.0  Bellsprout  50   75   35   70   30   40    300  ...   255   \n",
      "86    95.0   87.0     Dewgong  90   70   80   70   95   70    475  ...    75   \n",
      "..     ...    ...         ...  ..  ...  ...  ...  ...  ...    ...  ...   ...   \n",
      "553  542.0  542.0    Leavanny  75  103   80   70   70   92    490  ...    45   \n",
      "559  548.0  548.0     Petilil  45   35   50   70   50   30    280  ...   190   \n",
      "612  600.0  600.0       Klang  60   80   95   70   85   50    440  ...    60   \n",
      "613  601.0  601.0   Klinklang  60  100  115   70   85   90    520  ...    30   \n",
      "626  614.0  614.0     Beartic  95  110   80   70   80   50    485  ...    60   \n",
      "\n",
      "         EXP       Evolve  Per.1  Nat.1    Joh Hoe  Sin     Un   Pokemon.1  \n",
      "17   1059860       Lv. 36   18.0   18.0   12.0 NaN  NaN    NaN     Pidgeot  \n",
      "57   1250000          NaN   63.0   58.0  127.0 NaN  NaN    NaN   Growlithe  \n",
      "61   1059860  Water Stone   67.0   62.0   74.0 NaN  NaN    NaN   Poliwrath  \n",
      "68   1059860          NaN   75.0   69.0   64.0 NaN  NaN    NaN  Bellsprout  \n",
      "86   1000000       Lv. 34   95.0   87.0  177.0 NaN  NaN    NaN     Dewgong  \n",
      "..       ...          ...    ...    ...    ...  ..  ...    ...         ...  \n",
      "553  1059860   Friendship  542.0  542.0    NaN NaN  NaN   48.0    Leavanny  \n",
      "559  1000000          NaN  548.0  548.0    NaN NaN  NaN   54.0     Petilil  \n",
      "612  1059860       Lv. 38  600.0  600.0    NaN NaN  NaN  106.0       Klang  \n",
      "613  1059860       Lv. 49  601.0  601.0    NaN NaN  NaN  107.0   Klinklang  \n",
      "626  1000000       Lv. 37  614.0  614.0    NaN NaN  NaN  120.0     Beartic  \n",
      "\n",
      "[28 rows x 35 columns]\n"
     ]
    }
   ],
   "source": [
    "print(special_attack_70)"
   ]
  },
  {
   "cell_type": "markdown",
   "id": "26f84450-4c3a-4b46-a0e6-0794a9167665",
   "metadata": {},
   "source": [
    "### Filtering with logical operators\n",
    "***"
   ]
  },
  {
   "cell_type": "code",
   "execution_count": 31,
   "id": "aed9ba47-320e-4c13-8fb3-11c2a64814e5",
   "metadata": {},
   "outputs": [],
   "source": [
    "water_high_speed = df[(df[\"Spe\"] > 100) & (df['Type I'] == \"Water\")]"
   ]
  },
  {
   "cell_type": "code",
   "execution_count": 32,
   "id": "acb250d3-5ce2-4013-919a-1be85cfd70f7",
   "metadata": {},
   "outputs": [
    {
     "name": "stdout",
     "output_type": "stream",
     "text": [
      "       Per    Nat   Pokemon  HP  Atk  Def  SpA  SpD  Spe  Total  ... Catch  \\\n",
      "120  138.0  121.0   Starmie  60   75   85  100   85  115    520  ...    60   \n",
      "423  446.0  419.0  Floatzel  85  105   55   85   50  115    495  ...    75   \n",
      "527  516.0  516.0  Simipour  75   98   63   98   63  101    498  ...    75   \n",
      "659  647.0  647.0    Keldeo  91   72   90  129   90  108    580  ...     3   \n",
      "\n",
      "         EXP       Evolve  Per.1  Nat.1    Joh    Hoe   Sin     Un  Pokemon.1  \n",
      "120  1250000  Water Stone  138.0  121.0  168.0  144.0   NaN    NaN    Starmie  \n",
      "423  1000000       Lv. 26  446.0  419.0    NaN    NaN  57.0    NaN   Floatzel  \n",
      "527  1000000  Water Stone  516.0  516.0    NaN    NaN   NaN   22.0   Simipour  \n",
      "659  1250000            N  647.0  647.0    NaN    NaN   NaN  153.0     Keldeo  \n",
      "\n",
      "[4 rows x 35 columns]\n"
     ]
    }
   ],
   "source": [
    "print(water_high_speed);"
   ]
  },
  {
   "cell_type": "markdown",
   "id": "4f7f950a-37e0-4da8-852f-d2a01b447686",
   "metadata": {},
   "source": []
  },
  {
   "cell_type": "code",
   "execution_count": null,
   "id": "6ed37970-5f10-4f76-8ef0-573761539ac7",
   "metadata": {},
   "outputs": [],
   "source": []
  },
  {
   "cell_type": "code",
   "execution_count": null,
   "id": "d36e83fd-6e38-4403-9b61-0d0e60f6716c",
   "metadata": {},
   "outputs": [],
   "source": []
  },
  {
   "cell_type": "code",
   "execution_count": 34,
   "id": "6cf9baa1-03d0-4466-8cbf-b4546a7f67db",
   "metadata": {},
   "outputs": [
    {
     "data": {
      "text/html": [
       "<div>\n",
       "<style scoped>\n",
       "    .dataframe tbody tr th:only-of-type {\n",
       "        vertical-align: middle;\n",
       "    }\n",
       "\n",
       "    .dataframe tbody tr th {\n",
       "        vertical-align: top;\n",
       "    }\n",
       "\n",
       "    .dataframe thead th {\n",
       "        text-align: right;\n",
       "    }\n",
       "</style>\n",
       "<table border=\"1\" class=\"dataframe\">\n",
       "  <thead>\n",
       "    <tr style=\"text-align: right;\">\n",
       "      <th></th>\n",
       "      <th>Per</th>\n",
       "      <th>Nat</th>\n",
       "      <th>Pokemon</th>\n",
       "      <th>HP</th>\n",
       "      <th>Atk</th>\n",
       "      <th>Def</th>\n",
       "      <th>SpA</th>\n",
       "      <th>SpD</th>\n",
       "      <th>Spe</th>\n",
       "      <th>Total</th>\n",
       "      <th>...</th>\n",
       "      <th>Catch</th>\n",
       "      <th>EXP</th>\n",
       "      <th>Evolve</th>\n",
       "      <th>Per.1</th>\n",
       "      <th>Nat.1</th>\n",
       "      <th>Joh</th>\n",
       "      <th>Hoe</th>\n",
       "      <th>Sin</th>\n",
       "      <th>Un</th>\n",
       "      <th>Pokemon.1</th>\n",
       "    </tr>\n",
       "  </thead>\n",
       "  <tbody>\n",
       "    <tr>\n",
       "      <th>659</th>\n",
       "      <td>647.0</td>\n",
       "      <td>647.0</td>\n",
       "      <td>Keldeo</td>\n",
       "      <td>91</td>\n",
       "      <td>72</td>\n",
       "      <td>90</td>\n",
       "      <td>129</td>\n",
       "      <td>90</td>\n",
       "      <td>108</td>\n",
       "      <td>580</td>\n",
       "      <td>...</td>\n",
       "      <td>3</td>\n",
       "      <td>1250000</td>\n",
       "      <td>N</td>\n",
       "      <td>647.0</td>\n",
       "      <td>647.0</td>\n",
       "      <td>NaN</td>\n",
       "      <td>NaN</td>\n",
       "      <td>NaN</td>\n",
       "      <td>153.0</td>\n",
       "      <td>Keldeo</td>\n",
       "    </tr>\n",
       "    <tr>\n",
       "      <th>423</th>\n",
       "      <td>446.0</td>\n",
       "      <td>419.0</td>\n",
       "      <td>Floatzel</td>\n",
       "      <td>85</td>\n",
       "      <td>105</td>\n",
       "      <td>55</td>\n",
       "      <td>85</td>\n",
       "      <td>50</td>\n",
       "      <td>115</td>\n",
       "      <td>495</td>\n",
       "      <td>...</td>\n",
       "      <td>75</td>\n",
       "      <td>1000000</td>\n",
       "      <td>Lv. 26</td>\n",
       "      <td>446.0</td>\n",
       "      <td>419.0</td>\n",
       "      <td>NaN</td>\n",
       "      <td>NaN</td>\n",
       "      <td>57.0</td>\n",
       "      <td>NaN</td>\n",
       "      <td>Floatzel</td>\n",
       "    </tr>\n",
       "    <tr>\n",
       "      <th>527</th>\n",
       "      <td>516.0</td>\n",
       "      <td>516.0</td>\n",
       "      <td>Simipour</td>\n",
       "      <td>75</td>\n",
       "      <td>98</td>\n",
       "      <td>63</td>\n",
       "      <td>98</td>\n",
       "      <td>63</td>\n",
       "      <td>101</td>\n",
       "      <td>498</td>\n",
       "      <td>...</td>\n",
       "      <td>75</td>\n",
       "      <td>1000000</td>\n",
       "      <td>Water Stone</td>\n",
       "      <td>516.0</td>\n",
       "      <td>516.0</td>\n",
       "      <td>NaN</td>\n",
       "      <td>NaN</td>\n",
       "      <td>NaN</td>\n",
       "      <td>22.0</td>\n",
       "      <td>Simipour</td>\n",
       "    </tr>\n",
       "    <tr>\n",
       "      <th>120</th>\n",
       "      <td>138.0</td>\n",
       "      <td>121.0</td>\n",
       "      <td>Starmie</td>\n",
       "      <td>60</td>\n",
       "      <td>75</td>\n",
       "      <td>85</td>\n",
       "      <td>100</td>\n",
       "      <td>85</td>\n",
       "      <td>115</td>\n",
       "      <td>520</td>\n",
       "      <td>...</td>\n",
       "      <td>60</td>\n",
       "      <td>1250000</td>\n",
       "      <td>Water Stone</td>\n",
       "      <td>138.0</td>\n",
       "      <td>121.0</td>\n",
       "      <td>168.0</td>\n",
       "      <td>144.0</td>\n",
       "      <td>NaN</td>\n",
       "      <td>NaN</td>\n",
       "      <td>Starmie</td>\n",
       "    </tr>\n",
       "  </tbody>\n",
       "</table>\n",
       "<p>4 rows × 35 columns</p>\n",
       "</div>"
      ],
      "text/plain": [
       "       Per    Nat   Pokemon  HP  Atk  Def  SpA  SpD  Spe  Total  ... Catch  \\\n",
       "659  647.0  647.0    Keldeo  91   72   90  129   90  108    580  ...     3   \n",
       "423  446.0  419.0  Floatzel  85  105   55   85   50  115    495  ...    75   \n",
       "527  516.0  516.0  Simipour  75   98   63   98   63  101    498  ...    75   \n",
       "120  138.0  121.0   Starmie  60   75   85  100   85  115    520  ...    60   \n",
       "\n",
       "         EXP       Evolve  Per.1  Nat.1    Joh    Hoe   Sin     Un  Pokemon.1  \n",
       "659  1250000            N  647.0  647.0    NaN    NaN   NaN  153.0     Keldeo  \n",
       "423  1000000       Lv. 26  446.0  419.0    NaN    NaN  57.0    NaN   Floatzel  \n",
       "527  1000000  Water Stone  516.0  516.0    NaN    NaN   NaN   22.0   Simipour  \n",
       "120  1250000  Water Stone  138.0  121.0  168.0  144.0   NaN    NaN    Starmie  \n",
       "\n",
       "[4 rows x 35 columns]"
      ]
     },
     "execution_count": 34,
     "metadata": {},
     "output_type": "execute_result"
    }
   ],
   "source": [
    "water_high_speed.sort_values(by = \"HP\", ascending = False)"
   ]
  },
  {
   "cell_type": "code",
   "execution_count": null,
   "id": "7bc8f7a9-7a2b-4723-b4c3-850163431ecd",
   "metadata": {},
   "outputs": [],
   "source": []
  },
  {
   "cell_type": "markdown",
   "id": "481a9a01-0577-462f-89d1-5d29f8bc3c15",
   "metadata": {},
   "source": [
    "### Seaborn \n",
    "***"
   ]
  },
  {
   "cell_type": "markdown",
   "id": "a12ef7e0-afe5-450e-bf88-fed1bb7d6b8b",
   "metadata": {},
   "source": [
    "Builds on top of matplotib to make graphics"
   ]
  },
  {
   "cell_type": "code",
   "execution_count": 35,
   "id": "94dca850-763d-4bf7-bb60-71c0bd885cd1",
   "metadata": {},
   "outputs": [],
   "source": [
    "sb.set_theme()"
   ]
  },
  {
   "cell_type": "code",
   "execution_count": 36,
   "id": "44af2164-4729-4307-9961-5be562836ad8",
   "metadata": {},
   "outputs": [],
   "source": [
    "pokemon_data = pd.read_csv(\"pokemon.csv\")"
   ]
  },
  {
   "cell_type": "markdown",
   "id": "98bdc0bf-5f19-4a3d-9bdd-a251d64f1e31",
   "metadata": {},
   "source": [
    "### Scatter Plot \n",
    "***"
   ]
  },
  {
   "cell_type": "markdown",
   "id": "32fdf6a1-4b9c-4a56-b8cc-402ab00bc3fe",
   "metadata": {},
   "source": [
    "Visualizes Relationships between two Variables"
   ]
  },
  {
   "cell_type": "code",
   "execution_count": 38,
   "id": "172520bd-0dc4-486c-bc1b-acc685e8d8f1",
   "metadata": {},
   "outputs": [
    {
     "data": {
      "text/plain": [
       "<seaborn.axisgrid.FacetGrid at 0x7f6fa8ecf280>"
      ]
     },
     "execution_count": 38,
     "metadata": {},
     "output_type": "execute_result"
    },
    {
     "data": {
      "image/png": "[encoded data removed]",
      "text/plain": [
       "<Figure size 500x500 with 1 Axes>"
      ]
     },
     "metadata": {},
     "output_type": "display_data"
    }
   ],
   "source": [
    "sb.relplot(data = pokemon_data, x = \"Atk\", y = \"HP\")"
   ]
  },
  {
   "cell_type": "code",
   "execution_count": 44,
   "id": "1414a767-cd48-4c12-935b-ec95cd844825",
   "metadata": {},
   "outputs": [
    {
     "data": {
      "text/plain": [
       "<Axes: xlabel='Pokemon', ylabel='HP'>"
      ]
     },
     "execution_count": 44,
     "metadata": {},
     "output_type": "execute_result"
    },
    {
     "data": {
      "image/png": "[encoded data removed]",
      "text/plain": [
       "<Figure size 640x480 with 1 Axes>"
      ]
     },
     "metadata": {},
     "output_type": "display_data"
    }
   ],
   "source": [
    "sb.barplot(data = water_high_speed, x = \"Pokemon\", y = \"HP\")"
   ]
  },
  {
   "cell_type": "code",
   "execution_count": null,
   "id": "4d27ab37-1d7b-472d-ba48-8b3e42c17bde",
   "metadata": {},
   "outputs": [],
   "source": []
  },
  {
   "cell_type": "code",
   "execution_count": null,
   "id": "8305fe4a-e704-4746-976d-74dd1573cda3",
   "metadata": {},
   "outputs": [],
   "source": []
  }
 ],
 "metadata": {
  "kernelspec": {
   "display_name": "Python 3 (ipykernel)",
   "language": "python",
   "name": "python3"
  },
  "language_info": {
   "codemirror_mode": {
    "name": "ipython",
    "version": 3
   },
   "file_extension": ".py",
   "mimetype": "text/x-python",
   "name": "python",
   "nbconvert_exporter": "python",
   "pygments_lexer": "ipython3",
   "version": "3.10.13"
  }
 },
 "nbformat": 4,
 "nbformat_minor": 5
}
